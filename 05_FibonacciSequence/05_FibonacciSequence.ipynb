{
 "cells": [
  {
   "cell_type": "markdown",
   "metadata": {},
   "source": [
    "- This is the iterative function for giving the nth number of a Fibonacci Sequence.  Just in case, a Fibonacci Sequence is 0, 1, 1, 2, 3, 5, 8, 13, etc."
   ]
  },
  {
   "cell_type": "code",
   "execution_count": 1,
   "metadata": {},
   "outputs": [],
   "source": [
    "def fibbs(n):\n",
    "    sequence = []\n",
    "    for i in range(n+1):\n",
    "        if i == 0:\n",
    "            sequence.append(0)\n",
    "        elif i == 1:\n",
    "            sequence.append(1)\n",
    "        else:\n",
    "            total = sequence[i - 2] + sequence[i - 1]\n",
    "            sequence.append(total)\n",
    "    return (sequence[-1])"
   ]
  },
  {
   "cell_type": "markdown",
   "metadata": {},
   "source": [
    "- This is the recursive function for giving the nth number of a Fibonacci Sequence."
   ]
  },
  {
   "cell_type": "code",
   "execution_count": 2,
   "metadata": {},
   "outputs": [],
   "source": [
    "def fibbs_r(n, a = 0, b = 1):\n",
    "    if n == a:\n",
    "        return a\n",
    "    if n == b:\n",
    "        return b\n",
    "    else:\n",
    "        return (fibbs_r(n-1) + fibbs_r(n - 2))"
   ]
  },
  {
   "cell_type": "markdown",
   "metadata": {},
   "source": [
    "- Try both functions out."
   ]
  },
  {
   "cell_type": "code",
   "execution_count": 6,
   "metadata": {},
   "outputs": [],
   "source": [
    "n00 = 0    # Should give 0.\n",
    "n0 = 1     # Should give 1.\n",
    "n1 = 2     # Should give 1.\n",
    "n2 = 3     # Should give 2.\n",
    "n3 = 5     # Should give 5.\n",
    "n4 = 9     # Should give 34."
   ]
  },
  {
   "cell_type": "code",
   "execution_count": 7,
   "metadata": {},
   "outputs": [
    {
     "name": "stdout",
     "output_type": "stream",
     "text": [
      "0\n",
      "1\n",
      "1\n",
      "2\n",
      "5\n",
      "34\n"
     ]
    }
   ],
   "source": [
    "print (fibbs(n00))\n",
    "print (fibbs(n0))\n",
    "print (fibbs(n1))\n",
    "print (fibbs(n2))\n",
    "print (fibbs(n3))\n",
    "print (fibbs(n4))"
   ]
  },
  {
   "cell_type": "code",
   "execution_count": 8,
   "metadata": {},
   "outputs": [
    {
     "name": "stdout",
     "output_type": "stream",
     "text": [
      "0\n",
      "1\n",
      "1\n",
      "2\n",
      "5\n",
      "34\n"
     ]
    }
   ],
   "source": [
    "print (fibbs_r(n00))\n",
    "print (fibbs_r(n0))\n",
    "print (fibbs_r(n1))\n",
    "print (fibbs_r(n2))\n",
    "print (fibbs_r(n3))\n",
    "print (fibbs_r(n4))"
   ]
  },
  {
   "cell_type": "code",
   "execution_count": null,
   "metadata": {},
   "outputs": [],
   "source": []
  }
 ],
 "metadata": {
  "kernelspec": {
   "display_name": "Python [conda env:PythonData]",
   "language": "python",
   "name": "conda-env-PythonData-py"
  },
  "language_info": {
   "codemirror_mode": {
    "name": "ipython",
    "version": 3
   },
   "file_extension": ".py",
   "mimetype": "text/x-python",
   "name": "python",
   "nbconvert_exporter": "python",
   "pygments_lexer": "ipython3",
   "version": "3.6.7"
  }
 },
 "nbformat": 4,
 "nbformat_minor": 2
}
