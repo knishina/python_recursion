{
 "cells": [
  {
   "cell_type": "markdown",
   "metadata": {},
   "source": [
    "- This will cover the iterative function for finding the maximum value of a list."
   ]
  },
  {
   "cell_type": "code",
   "execution_count": 1,
   "metadata": {},
   "outputs": [],
   "source": [
    "def maximum(listy):\n",
    "    maxi = 0\n",
    "    for i in listy:\n",
    "        if i > maxi:\n",
    "            maxi = i\n",
    "    return maxi"
   ]
  },
  {
   "cell_type": "markdown",
   "metadata": {},
   "source": [
    "- Of course, you could use the python function max to find the maximum value of a list."
   ]
  },
  {
   "cell_type": "code",
   "execution_count": 11,
   "metadata": {},
   "outputs": [],
   "source": [
    "def o_maximum(listy):\n",
    "    if listy != []:\n",
    "        return (max(listy))"
   ]
  },
  {
   "cell_type": "markdown",
   "metadata": {},
   "source": [
    "- This is the recursive function for finding the maximum of the list."
   ]
  },
  {
   "cell_type": "code",
   "execution_count": 18,
   "metadata": {},
   "outputs": [],
   "source": [
    "def maximum_r(listy):\n",
    "    if listy == []:\n",
    "        return None\n",
    "    if len(listy) == 1:\n",
    "        return (listy[0])\n",
    "    else:\n",
    "        return (max(listy[0], maximum_r(listy[1:])))"
   ]
  },
  {
   "cell_type": "markdown",
   "metadata": {},
   "source": [
    "- This will test all three functions using preset listys."
   ]
  },
  {
   "cell_type": "code",
   "execution_count": 5,
   "metadata": {},
   "outputs": [],
   "source": [
    "listy0 = []\n",
    "listy1 = [1, 2, 3]\n",
    "listy2 = [-1, 0, 1, 3, -5]\n",
    "listy3 = [-2, 2, -1, 1, 3, -3, 5, -5, 100]"
   ]
  },
  {
   "cell_type": "code",
   "execution_count": 6,
   "metadata": {},
   "outputs": [
    {
     "name": "stdout",
     "output_type": "stream",
     "text": [
      "0\n",
      "3\n",
      "3\n",
      "100\n"
     ]
    }
   ],
   "source": [
    "print (maximum(listy0))\n",
    "print (maximum(listy1))\n",
    "print (maximum(listy2))\n",
    "print (maximum(listy3))"
   ]
  },
  {
   "cell_type": "code",
   "execution_count": 12,
   "metadata": {},
   "outputs": [
    {
     "name": "stdout",
     "output_type": "stream",
     "text": [
      "None\n",
      "3\n",
      "3\n",
      "100\n"
     ]
    }
   ],
   "source": [
    "print (o_maximum(listy0))\n",
    "print (o_maximum(listy1))\n",
    "print (o_maximum(listy2))\n",
    "print (o_maximum(listy3))"
   ]
  },
  {
   "cell_type": "code",
   "execution_count": 19,
   "metadata": {},
   "outputs": [
    {
     "name": "stdout",
     "output_type": "stream",
     "text": [
      "None\n",
      "3\n",
      "3\n",
      "100\n"
     ]
    }
   ],
   "source": [
    "print (maximum_r(listy0))\n",
    "print (maximum_r(listy1))\n",
    "print (maximum_r(listy2))\n",
    "print (maximum_r(listy3))"
   ]
  },
  {
   "cell_type": "code",
   "execution_count": null,
   "metadata": {},
   "outputs": [],
   "source": []
  }
 ],
 "metadata": {
  "kernelspec": {
   "display_name": "Python [conda env:PythonData]",
   "language": "python",
   "name": "conda-env-PythonData-py"
  },
  "language_info": {
   "codemirror_mode": {
    "name": "ipython",
    "version": 3
   },
   "file_extension": ".py",
   "mimetype": "text/x-python",
   "name": "python",
   "nbconvert_exporter": "python",
   "pygments_lexer": "ipython3",
   "version": "3.6.7"
  }
 },
 "nbformat": 4,
 "nbformat_minor": 2
}
