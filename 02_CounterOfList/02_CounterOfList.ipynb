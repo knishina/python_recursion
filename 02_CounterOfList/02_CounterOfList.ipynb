{
 "cells": [
  {
   "cell_type": "markdown",
   "metadata": {},
   "source": [
    "- This will determine the number of entries in a list."
   ]
  },
  {
   "cell_type": "code",
   "execution_count": 1,
   "metadata": {},
   "outputs": [],
   "source": [
    "def counter(listy):\n",
    "    counter = 0\n",
    "    for i in listy:\n",
    "        counter += 1\n",
    "    return counter"
   ]
  },
  {
   "cell_type": "markdown",
   "metadata": {},
   "source": [
    "- Of course, it could be done using the len function...."
   ]
  },
  {
   "cell_type": "code",
   "execution_count": 2,
   "metadata": {},
   "outputs": [],
   "source": [
    "def o_counter(listy):\n",
    "    return (len(listy))"
   ]
  },
  {
   "cell_type": "markdown",
   "metadata": {},
   "source": [
    "- This will determine the number of entries in a list using a recursive function.\n"
   ]
  },
  {
   "cell_type": "code",
   "execution_count": 3,
   "metadata": {},
   "outputs": [],
   "source": [
    "def counter_r(listy):\n",
    "    if listy == []:\n",
    "        return 0\n",
    "    else:\n",
    "        return (1 + counter(listy[1:]))"
   ]
  },
  {
   "cell_type": "markdown",
   "metadata": {},
   "source": [
    "- Now, this will test all three functions using preset listys."
   ]
  },
  {
   "cell_type": "code",
   "execution_count": 4,
   "metadata": {},
   "outputs": [],
   "source": [
    "listy0 = []\n",
    "listy1 = [1, 1, 1, 1, 1, 1, 1]\n",
    "listy2 = [1, 2, 3, 4, 5, 6, 7, 8, 9]\n",
    "listy3 = [0, 1, 0, 1, 0, 2, 0, 2, 0, 3, 0, 3]"
   ]
  },
  {
   "cell_type": "code",
   "execution_count": 5,
   "metadata": {},
   "outputs": [
    {
     "name": "stdout",
     "output_type": "stream",
     "text": [
      "0\n",
      "7\n",
      "9\n",
      "12\n"
     ]
    }
   ],
   "source": [
    "print (counter(listy0))\n",
    "print (counter(listy1))\n",
    "print (counter(listy2))\n",
    "print (counter(listy3))"
   ]
  },
  {
   "cell_type": "code",
   "execution_count": 6,
   "metadata": {},
   "outputs": [
    {
     "name": "stdout",
     "output_type": "stream",
     "text": [
      "0\n",
      "7\n",
      "9\n",
      "12\n"
     ]
    }
   ],
   "source": [
    "print (o_counter(listy0))\n",
    "print (o_counter(listy1))\n",
    "print (o_counter(listy2))\n",
    "print (o_counter(listy3))"
   ]
  },
  {
   "cell_type": "code",
   "execution_count": 7,
   "metadata": {},
   "outputs": [
    {
     "name": "stdout",
     "output_type": "stream",
     "text": [
      "0\n",
      "7\n",
      "9\n",
      "12\n"
     ]
    }
   ],
   "source": [
    "print (counter_r(listy0))\n",
    "print (counter_r(listy1))\n",
    "print (counter_r(listy2))\n",
    "print (counter_r(listy3))"
   ]
  },
  {
   "cell_type": "code",
   "execution_count": null,
   "metadata": {},
   "outputs": [],
   "source": []
  }
 ],
 "metadata": {
  "kernelspec": {
   "display_name": "Python [conda env:PythonData]",
   "language": "python",
   "name": "conda-env-PythonData-py"
  },
  "language_info": {
   "codemirror_mode": {
    "name": "ipython",
    "version": 3
   },
   "file_extension": ".py",
   "mimetype": "text/x-python",
   "name": "python",
   "nbconvert_exporter": "python",
   "pygments_lexer": "ipython3",
   "version": "3.6.7"
  }
 },
 "nbformat": 4,
 "nbformat_minor": 2
}
