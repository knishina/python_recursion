{
 "cells": [
  {
   "cell_type": "markdown",
   "metadata": {},
   "source": [
    "- Problem: There's a chess board.  For each square, the amount of rice doubles.  So for the first square, there is one grain of rice.  In the second square, there are two grains of rice.  ETC.  Find the total number of rice grains."
   ]
  },
  {
   "cell_type": "markdown",
   "metadata": {},
   "source": [
    "- This is the iterative function."
   ]
  },
  {
   "cell_type": "code",
   "execution_count": 1,
   "metadata": {},
   "outputs": [],
   "source": [
    "def rice(number_blocks):\n",
    "    total = 0\n",
    "    sub_total = 1\n",
    "    for thing in range(1, number_blocks + 1):\n",
    "        if thing == 1:\n",
    "            total += thing\n",
    "        else:\n",
    "            sub_total *= 2\n",
    "            total += sub_total\n",
    "    return total"
   ]
  },
  {
   "cell_type": "markdown",
   "metadata": {},
   "source": [
    "- This is the recursive function."
   ]
  },
  {
   "cell_type": "code",
   "execution_count": 2,
   "metadata": {},
   "outputs": [],
   "source": [
    "def rice_r(number_blocks):\n",
    "    if number_blocks == 0:\n",
    "        return 0\n",
    "    if number_blocks == 1:\n",
    "        return 1\n",
    "    else:\n",
    "        return (1 + 2 * rice_r(number_blocks -1))"
   ]
  },
  {
   "cell_type": "markdown",
   "metadata": {},
   "source": [
    "- This will test two functions using preset n's."
   ]
  },
  {
   "cell_type": "code",
   "execution_count": 3,
   "metadata": {},
   "outputs": [],
   "source": [
    "n0 = 0    # This should return 0\n",
    "n1 = 1    # This should return 1\n",
    "n2 = 2    # This should return 3\n",
    "n3 = 4    # This should return 15"
   ]
  },
  {
   "cell_type": "code",
   "execution_count": 4,
   "metadata": {},
   "outputs": [
    {
     "name": "stdout",
     "output_type": "stream",
     "text": [
      "0\n",
      "1\n",
      "3\n",
      "15\n"
     ]
    }
   ],
   "source": [
    "print (rice(n0))\n",
    "print (rice(n1))\n",
    "print (rice(n2))\n",
    "print (rice(n3))"
   ]
  },
  {
   "cell_type": "code",
   "execution_count": 5,
   "metadata": {},
   "outputs": [
    {
     "name": "stdout",
     "output_type": "stream",
     "text": [
      "0\n",
      "1\n",
      "3\n",
      "15\n"
     ]
    }
   ],
   "source": [
    "print (rice_r(n0))\n",
    "print (rice_r(n1))\n",
    "print (rice_r(n2))\n",
    "print (rice_r(n3))"
   ]
  },
  {
   "cell_type": "code",
   "execution_count": null,
   "metadata": {},
   "outputs": [],
   "source": []
  }
 ],
 "metadata": {
  "kernelspec": {
   "display_name": "Python [conda env:PythonData]",
   "language": "python",
   "name": "conda-env-PythonData-py"
  },
  "language_info": {
   "codemirror_mode": {
    "name": "ipython",
    "version": 3
   },
   "file_extension": ".py",
   "mimetype": "text/x-python",
   "name": "python",
   "nbconvert_exporter": "python",
   "pygments_lexer": "ipython3",
   "version": "3.6.7"
  }
 },
 "nbformat": 4,
 "nbformat_minor": 2
}
