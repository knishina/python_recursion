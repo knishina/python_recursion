{
 "cells": [
  {
   "cell_type": "markdown",
   "metadata": {},
   "source": [
    "- This will cover the iterative function for finding the sum of a list."
   ]
  },
  {
   "cell_type": "code",
   "execution_count": 1,
   "metadata": {},
   "outputs": [],
   "source": [
    "def summ(listy):\n",
    "    total = 0\n",
    "    for i in listy:\n",
    "        total += i\n",
    "    return total"
   ]
  },
  {
   "cell_type": "markdown",
   "metadata": {},
   "source": [
    "- Of course, this can be solved by using the sum function in python."
   ]
  },
  {
   "cell_type": "code",
   "execution_count": 11,
   "metadata": {},
   "outputs": [],
   "source": [
    "def o_summ(listy):\n",
    "    return (sum(listy))"
   ]
  },
  {
   "cell_type": "markdown",
   "metadata": {},
   "source": [
    "- This will cover the recursive function for finding the sum of a list."
   ]
  },
  {
   "cell_type": "code",
   "execution_count": 2,
   "metadata": {},
   "outputs": [],
   "source": [
    "def summ_r(listy):\n",
    "    if listy == []:\n",
    "        return 0\n",
    "    else:\n",
    "        return (listy[0] + summ_r(listy[1:]))"
   ]
  },
  {
   "cell_type": "markdown",
   "metadata": {},
   "source": [
    "- This will test three functions using preset listys."
   ]
  },
  {
   "cell_type": "code",
   "execution_count": 6,
   "metadata": {},
   "outputs": [],
   "source": [
    "listy0 = []\n",
    "listy1 = [1, 2, 3, 4, 5]\n",
    "listy2 = [3, 5, 7, 9, 11]\n",
    "listy3 = [2, 4, 6, 8, 10, 10]"
   ]
  },
  {
   "cell_type": "code",
   "execution_count": 9,
   "metadata": {},
   "outputs": [
    {
     "name": "stdout",
     "output_type": "stream",
     "text": [
      "0\n",
      "15\n",
      "35\n",
      "40\n"
     ]
    }
   ],
   "source": [
    "print (summ(listy0))\n",
    "print (summ(listy1))\n",
    "print (summ(listy2))\n",
    "print (summ(listy3))"
   ]
  },
  {
   "cell_type": "code",
   "execution_count": 12,
   "metadata": {},
   "outputs": [
    {
     "name": "stdout",
     "output_type": "stream",
     "text": [
      "0\n",
      "15\n",
      "35\n",
      "40\n"
     ]
    }
   ],
   "source": [
    "print (o_summ(listy0))\n",
    "print (o_summ(listy1))\n",
    "print (o_summ(listy2))\n",
    "print (o_summ(listy3))"
   ]
  },
  {
   "cell_type": "code",
   "execution_count": 10,
   "metadata": {},
   "outputs": [
    {
     "name": "stdout",
     "output_type": "stream",
     "text": [
      "0\n",
      "15\n",
      "35\n",
      "40\n"
     ]
    }
   ],
   "source": [
    "print (summ_r(listy0))\n",
    "print (summ_r(listy1))\n",
    "print (summ_r(listy2))\n",
    "print (summ_r(listy3))"
   ]
  },
  {
   "cell_type": "code",
   "execution_count": null,
   "metadata": {},
   "outputs": [],
   "source": []
  }
 ],
 "metadata": {
  "kernelspec": {
   "display_name": "Python [conda env:PythonData]",
   "language": "python",
   "name": "conda-env-PythonData-py"
  },
  "language_info": {
   "codemirror_mode": {
    "name": "ipython",
    "version": 3
   },
   "file_extension": ".py",
   "mimetype": "text/x-python",
   "name": "python",
   "nbconvert_exporter": "python",
   "pygments_lexer": "ipython3",
   "version": "3.6.7"
  }
 },
 "nbformat": 4,
 "nbformat_minor": 2
}
