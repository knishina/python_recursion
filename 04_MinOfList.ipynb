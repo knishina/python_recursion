{
 "cells": [
  {
   "cell_type": "markdown",
   "metadata": {},
   "source": [
    "- This will cover the iterative function for finding the minimum value of a list."
   ]
  },
  {
   "cell_type": "code",
   "execution_count": 10,
   "metadata": {},
   "outputs": [],
   "source": [
    "def minimum(listy):\n",
    "    mini = 1000000000000\n",
    "    for i in listy:\n",
    "        if i < mini:\n",
    "            mini = i\n",
    "    if len(listy) == 0:\n",
    "        return \"None\"\n",
    "    else:\n",
    "        return mini"
   ]
  },
  {
   "cell_type": "markdown",
   "metadata": {},
   "source": [
    "- Of course, you could use the python function min to find the minimum value of a list."
   ]
  },
  {
   "cell_type": "code",
   "execution_count": 2,
   "metadata": {},
   "outputs": [],
   "source": [
    "def o_minimum(listy):\n",
    "    if listy != []:\n",
    "        return (min(listy))"
   ]
  },
  {
   "cell_type": "markdown",
   "metadata": {},
   "source": [
    "- This is the recursive function for finding the minimum value of a list."
   ]
  },
  {
   "cell_type": "code",
   "execution_count": 19,
   "metadata": {},
   "outputs": [],
   "source": [
    "def minimum_r(listy):\n",
    "    if listy == []:\n",
    "        return None\n",
    "    if len(listy) == 1:\n",
    "        return (listy[0])\n",
    "    else:\n",
    "        return (min(listy[0], minimum_r(listy[1:])))"
   ]
  },
  {
   "cell_type": "markdown",
   "metadata": {},
   "source": [
    "- Test all three functions with some given data."
   ]
  },
  {
   "cell_type": "code",
   "execution_count": 4,
   "metadata": {},
   "outputs": [],
   "source": [
    "listy0 = []\n",
    "listy1 = [1, 2, 3]\n",
    "listy2 = [1, -1, 0, 0, 3]\n",
    "listy3 = [-50, -5, -0.5, 50, 100]"
   ]
  },
  {
   "cell_type": "code",
   "execution_count": 11,
   "metadata": {},
   "outputs": [
    {
     "name": "stdout",
     "output_type": "stream",
     "text": [
      "None\n",
      "1\n",
      "-1\n",
      "-50\n"
     ]
    }
   ],
   "source": [
    "print (minimum(listy0))\n",
    "print (minimum(listy1))\n",
    "print (minimum(listy2))\n",
    "print (minimum(listy3))"
   ]
  },
  {
   "cell_type": "code",
   "execution_count": 6,
   "metadata": {},
   "outputs": [
    {
     "name": "stdout",
     "output_type": "stream",
     "text": [
      "None\n",
      "1\n",
      "-1\n",
      "-50\n"
     ]
    }
   ],
   "source": [
    "print (o_minimum(listy0))\n",
    "print (o_minimum(listy1))\n",
    "print (o_minimum(listy2))\n",
    "print (o_minimum(listy3))"
   ]
  },
  {
   "cell_type": "code",
   "execution_count": 20,
   "metadata": {},
   "outputs": [
    {
     "name": "stdout",
     "output_type": "stream",
     "text": [
      "None\n",
      "1\n",
      "-1\n",
      "-50\n"
     ]
    }
   ],
   "source": [
    "print (minimum_r(listy0))\n",
    "print (minimum_r(listy1))\n",
    "print (minimum_r(listy2))\n",
    "print (minimum_r(listy3))"
   ]
  },
  {
   "cell_type": "code",
   "execution_count": null,
   "metadata": {},
   "outputs": [],
   "source": []
  }
 ],
 "metadata": {
  "kernelspec": {
   "display_name": "Python [conda env:PythonData]",
   "language": "python",
   "name": "conda-env-PythonData-py"
  },
  "language_info": {
   "codemirror_mode": {
    "name": "ipython",
    "version": 3
   },
   "file_extension": ".py",
   "mimetype": "text/x-python",
   "name": "python",
   "nbconvert_exporter": "python",
   "pygments_lexer": "ipython3",
   "version": "3.6.7"
  }
 },
 "nbformat": 4,
 "nbformat_minor": 2
}
